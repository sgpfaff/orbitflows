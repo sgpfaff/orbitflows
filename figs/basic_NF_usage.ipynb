{
 "cells": [
  {
   "cell_type": "markdown",
   "id": "29bc3d7e",
   "metadata": {},
   "source": [
    "Figures illustrating conventional use cases for normalizing flows"
   ]
  },
  {
   "cell_type": "code",
   "execution_count": 1,
   "id": "4c8ea795",
   "metadata": {},
   "outputs": [
    {
     "ename": "ModuleNotFoundError",
     "evalue": "No module named 'zuko'",
     "output_type": "error",
     "traceback": [
      "\u001b[0;31m---------------------------------------------------------------------------\u001b[0m",
      "\u001b[0;31mModuleNotFoundError\u001b[0m                       Traceback (most recent call last)",
      "Cell \u001b[0;32mIn[1], line 1\u001b[0m\n\u001b[0;32m----> 1\u001b[0m \u001b[38;5;28;01mimport\u001b[39;00m \u001b[38;5;21;01mzuko\u001b[39;00m\n",
      "\u001b[0;31mModuleNotFoundError\u001b[0m: No module named 'zuko'"
     ]
    }
   ],
   "source": [
    "import zuko"
   ]
  },
  {
   "cell_type": "code",
   "execution_count": null,
   "id": "148f95e9",
   "metadata": {},
   "outputs": [],
   "source": []
  }
 ],
 "metadata": {
  "kernelspec": {
   "display_name": "MLDyn",
   "language": "python",
   "name": "python3"
  },
  "language_info": {
   "codemirror_mode": {
    "name": "ipython",
    "version": 3
   },
   "file_extension": ".py",
   "mimetype": "text/x-python",
   "name": "python",
   "nbconvert_exporter": "python",
   "pygments_lexer": "ipython3",
   "version": "3.12.2"
  }
 },
 "nbformat": 4,
 "nbformat_minor": 5
}
