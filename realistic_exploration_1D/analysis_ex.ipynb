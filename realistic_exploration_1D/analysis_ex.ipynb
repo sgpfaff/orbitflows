{
 "cells": [
  {
   "cell_type": "code",
   "execution_count": 2,
   "id": "419a0844",
   "metadata": {},
   "outputs": [],
   "source": [
    "import torch\n",
    "import orbitflows as of\n",
    "import matplotlib.pyplot as plt\n",
    "import astropy.units as u"
   ]
  },
  {
   "cell_type": "code",
   "execution_count": null,
   "id": "939c06df",
   "metadata": {},
   "outputs": [],
   "source": [
    "model = of.HamiltonianMappingModel.load('test_model')"
   ]
  },
  {
   "cell_type": "code",
   "execution_count": null,
   "id": "7e57bc7d",
   "metadata": {},
   "outputs": [],
   "source": [
    "ro = 8 * u.kpc\n",
    "n_actions = 20\n",
    "n_angles = 1000\n",
    "training_ps, training_aa = of.generate_sho_orbits(num_orbits=n_actions, omega=omega0, t_end = 2*torch.pi / omega0, n_steps=n_angles, r_bounds=torch.tensor([0.05, 2])/ro.value)\n",
    "training_aa = training_aa.to(torch.float64)\n",
    "\n",
    "plt.figure(figsize=(6, 6))\n",
    "plt.scatter(training_aa[...,0], H(training_ps, model.targetPotential).detach(), s=5, label='pre-training')\n",
    "plt.scatter(training_aa[...,0], model.hamiltonian(training_aa).detach(), s=5, label='post-training')\n",
    "plt.legend()\n",
    "plt.xlabel('angle', fontsize=15)\n",
    "plt.ylabel('energy', fontsize=15)\n",
    "plt.show()\n",
    "\n",
    "# plot energy for transformed orbits (with NF) and without (pre-training)\n",
    "plt.figure(figsize=(6,6))\n",
    "plt.scatter(training_ps.T[0] * ro, training_ps.T[1] * vo, s=10, label='SHO orbit')\n",
    "plt.scatter(model.flow(training_ps).T.detach()[0]*ro, model.flow(training_ps).T.detach()[1]*vo, s=10, label='transformed')\n",
    "plt.xlabel('z [kpc]', fontsize=15)\n",
    "plt.ylabel('v$_z$ [km/s]', fontsize=15)\n",
    "plt.legend()\n",
    "plt.show()"
   ]
  }
 ],
 "metadata": {
  "kernelspec": {
   "display_name": "MLDyn",
   "language": "python",
   "name": "python3"
  },
  "language_info": {
   "codemirror_mode": {
    "name": "ipython",
    "version": 3
   },
   "file_extension": ".py",
   "mimetype": "text/x-python",
   "name": "python",
   "nbconvert_exporter": "python",
   "pygments_lexer": "ipython3",
   "version": "3.12.2"
  }
 },
 "nbformat": 4,
 "nbformat_minor": 5
}
