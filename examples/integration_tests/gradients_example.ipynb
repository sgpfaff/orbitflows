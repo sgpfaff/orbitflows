{
 "cells": [
  {
   "cell_type": "code",
   "execution_count": 17,
   "id": "547e9e79",
   "metadata": {},
   "outputs": [],
   "source": [
    "import torch\n",
    "from functools import partial\n",
    "from orbitflows.integrate import dH_dx\n",
    "from orbitflows import H_sho"
   ]
  },
  {
   "cell_type": "markdown",
   "id": "8c724126",
   "metadata": {},
   "source": [
    "**Example to check autodiff in the `dH_dx` function**\n",
    "\n",
    "Analytic solution for simple example (SHO):\n",
    "\n",
    "(1) $H = \\frac{p^2}{2} + \\frac{\\omega^2 q^2}{2}$\n",
    "\n",
    "(2) $\\frac{\\partial H}{\\partial q} = \\omega^2 q$\n",
    "\n",
    "(3) $\\frac{\\partial H}{\\partial p} = p$\n",
    "\n",
    "where I choose $q = 2.0$, $p = 1.5$, and $\\omega = 2.0$. The derivatives should be \n",
    "\n",
    "$\\frac{\\partial H}{\\partial q} = 8.0$\n",
    "\n",
    "$\\frac{\\partial H}{\\partial p} = 1.5$"
   ]
  },
  {
   "cell_type": "code",
   "execution_count": 16,
   "id": "0d642954",
   "metadata": {},
   "outputs": [
    {
     "name": "stdout",
     "output_type": "stream",
     "text": [
      "dH/dq = 8.0\n",
      "dH/dp = 1.5\n"
     ]
    }
   ],
   "source": [
    "ex_ps = torch.tensor([2.0, 1.5], requires_grad=True) # example phase space coordinates\n",
    "hamiltonian = partial(H_sho, omega=2.0)\n",
    "print(f'dH/dq = {- dH_dx(ex_ps, 'q', hamiltonian).item()}')\n",
    "print(f'dH/dp = {dH_dx(ex_ps, 'p', hamiltonian).item()}')"
   ]
  }
 ],
 "metadata": {
  "kernelspec": {
   "display_name": "MLDyn",
   "language": "python",
   "name": "python3"
  },
  "language_info": {
   "codemirror_mode": {
    "name": "ipython",
    "version": 3
   },
   "file_extension": ".py",
   "mimetype": "text/x-python",
   "name": "python",
   "nbconvert_exporter": "python",
   "pygments_lexer": "ipython3",
   "version": "3.12.2"
  }
 },
 "nbformat": 4,
 "nbformat_minor": 5
}
